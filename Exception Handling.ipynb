{
 "cells": [
  {
   "cell_type": "markdown",
   "id": "e3a24599",
   "metadata": {},
   "source": [
    "Exceptions and their descriptions: Exception-Base class of exception. Allother exception derived from this class. ArithmeticError-Base class for those exceptions that are raised for arithmetic or numeric errors. ZeroDivisionError-Raised when division or modulo operation is zero. ModuleNotFoundError-Raised by import when imported module could not be located. KeyError-Raised when a mapping (dictionary) key is not found in keys of a dictionary. MemoryError-Raised when an operation runs out of memory"
   ]
  },
  {
   "cell_type": "markdown",
   "id": "dfa5be23",
   "metadata": {},
   "source": [
    "# Basic Structure"
   ]
  },
  {
   "cell_type": "code",
   "execution_count": null,
   "id": "4eb68291",
   "metadata": {},
   "outputs": [],
   "source": [
    "try:\n",
    "   You do your operations here...\n",
    "   ...\n",
    "except ExceptionI:\n",
    "   If there is ExceptionI, then execute this block.\n",
    "except ExceptionII:\n",
    "   If there is ExceptionII, then execute this block.\n",
    "   ...\n",
    "else:\n",
    "   If there is no exception then execute this block. "
   ]
  },
  {
   "cell_type": "code",
   "execution_count": null,
   "id": "a17fd561",
   "metadata": {},
   "outputs": [],
   "source": [
    "finally\n",
    "The finally: Block of code will always be run regardless if there was an exception in the try code block. The syntax is:\n",
    "\n",
    "try:\n",
    "   Code block here\n",
    "   ...\n",
    "   Due to any exception, this code may be skipped!\n",
    "finally:\n",
    "   This code block would always be executed."
   ]
  },
  {
   "cell_type": "markdown",
   "id": "25830290",
   "metadata": {},
   "source": [
    "# Raising an exception"
   ]
  },
  {
   "cell_type": "markdown",
   "id": "fdfa7664",
   "metadata": {},
   "source": [
    "We can raise an excepton by using raise statement. Let us check with examples:"
   ]
  },
  {
   "cell_type": "code",
   "execution_count": null,
   "id": "87102a82",
   "metadata": {},
   "outputs": [],
   "source": [
    "    \n",
    "def raise_exc(a):\n",
    "    if a < 5:\n",
    "        raise Exception(a) # If exception raised code below to this will not execute\n",
    "        \n",
    "    return a\n",
    "\n",
    "try:\n",
    "    res1 = raise_exc(7)\n",
    "    print(res1)\n",
    "    res = raise_exc(2)\n",
    "    print(res)\n",
    "except Exception as e:\n",
    "    print(\"Error is \", e)"
   ]
  }
 ],
 "metadata": {
  "kernelspec": {
   "display_name": "Python 3",
   "language": "python",
   "name": "python3"
  },
  "language_info": {
   "codemirror_mode": {
    "name": "ipython",
    "version": 3
   },
   "file_extension": ".py",
   "mimetype": "text/x-python",
   "name": "python",
   "nbconvert_exporter": "python",
   "pygments_lexer": "ipython3",
   "version": "3.8.8"
  }
 },
 "nbformat": 4,
 "nbformat_minor": 5
}
