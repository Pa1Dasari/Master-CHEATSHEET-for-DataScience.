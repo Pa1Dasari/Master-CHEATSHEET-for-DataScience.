{
 "cells": [
  {
   "cell_type": "markdown",
   "id": "c759c26b",
   "metadata": {},
   "source": [
    "# Special Characters"
   ]
  },
  {
   "cell_type": "code",
   "execution_count": null,
   "id": "f5f7ff58",
   "metadata": {},
   "outputs": [],
   "source": [
    "^ | Matches the expression to its right at the start of a string. It matches every such instance before each \\n in the string.\n",
    "\n",
    "$ | Matches the expression to its left at the end of a string. It matches every such instance before each \\n in the string.\n",
    "\n",
    ". | Matches any character except line terminators like \\n.\n",
    "\n",
    "\\ | Escapes special characters or denotes character classes.\n",
    "\n",
    "A|B | Matches expression A or B. If A is matched first, B is left untried.\n",
    "\n",
    "+ | Greedily matches the expression to its left 1 or more times.\n",
    "\n",
    "* | Greedily matches the expression to its left 0 or more times.\n",
    "\n",
    "? | Greedily matches the expression to its left 0 or 1 times. But if ? is added to qualifiers (+, *, and ? itself) it will perform matches in a non-greedy manner.\n",
    "\n",
    "{m} | Matches the expression to its left m times, and not less.\n",
    "\n",
    "{m,n} | Matches the expression to its left m to n times, and not less.\n",
    "\n",
    "{m,n}? | Matches the expression to its left m times, and ignores n. See ? above."
   ]
  },
  {
   "cell_type": "markdown",
   "id": "c1e39f30",
   "metadata": {},
   "source": [
    "# Character Classes (a.k.a. Special Sequences)"
   ]
  },
  {
   "cell_type": "code",
   "execution_count": null,
   "id": "9a8e6168",
   "metadata": {},
   "outputs": [],
   "source": [
    "\\w | Matches alphanumeric characters, which means a-z, A-Z, and 0-9. It also matches the underscore, _.\n",
    "\n",
    "\\d | Matches digits, which means 0-9.\n",
    "\n",
    "\\D | Matches any non-digits.\n",
    "\n",
    "\\s | Matches whitespace characters, which include the \\t, \\n, \\r, and space characters.\n",
    "\n",
    "\\S | Matches non-whitespace characters.\n",
    "\n",
    "\\b | Matches the boundary (or empty string) at the start and end of a word, that is, between \\w and \\W.\n",
    "\n",
    "\\B | Matches where \\b does not, that is, the boundary of \\w characters.\n",
    "\n",
    "\\A | Matches the expression to its right at the absolute start of a string whether in single or multi-line mode.\n",
    "\n",
    "\\Z | Matches the expression to its left at the absolute end of a string whether in single or multi-line mode.\n"
   ]
  },
  {
   "cell_type": "markdown",
   "id": "bec0cc74",
   "metadata": {},
   "source": [
    "# Sets"
   ]
  },
  {
   "cell_type": "code",
   "execution_count": null,
   "id": "5f60b2c1",
   "metadata": {},
   "outputs": [],
   "source": [
    "[ ] | Contains a set of characters to match.\n",
    "\n",
    "[amk] | Matches either a, m, or k. It does not match amk.\n",
    "\n",
    "[a-z] | Matches any alphabet from a to z.\n",
    "\n",
    "[a\\-z] | Matches a, -, or z. It matches - because \\ escapes it.\n",
    "\n",
    "[a-] | Matches a or -, because - is not being used to indicate a series of characters.\n",
    "\n",
    "[-a] | As above, matches a or -.\n",
    "\n",
    "[a-z0-9] | Matches characters from a to z and also from 0 to 9.\n",
    "\n",
    "[(+*)] | Special characters become literal inside a set, so this matches (, +, *, and ).\n",
    "\n",
    "[^ab5] | Adding ^ excludes any character in the set. Here, it matches characters that are not a, b, or 5."
   ]
  },
  {
   "cell_type": "markdown",
   "id": "d2129184",
   "metadata": {},
   "source": [
    "# Groups"
   ]
  },
  {
   "cell_type": "code",
   "execution_count": null,
   "id": "f0f6e9f9",
   "metadata": {},
   "outputs": [],
   "source": [
    "( ) | Matches the expression inside the parentheses and groups it.\n",
    "\n",
    "(? ) | Inside parentheses like this, ? acts as an extension notation. Its meaning depends on the character immediately to its right.\n",
    "\n",
    "(?PAB) | Matches the expression AB, and it can be accessed with the group name.\n",
    "\n",
    "(?aiLmsux) | Here, a, i, L, m, s, u, and x are flags:\n",
    "\n",
    "a — Matches ASCII only\n",
    "i — Ignore case\n",
    "L — Locale dependent\n",
    "m — Multi-line\n",
    "s — Matches all\n",
    "u — Matches unicode\n",
    "x — Verbose\n",
    "(?:A) | Matches the expression as represented by A, but unlike (?PAB), it cannot be retrieved afterwards.\n",
    "\n",
    "(?#...) | A comment. Contents are for us to read, not for matching.\n",
    "\n",
    "A(?=B) | Lookahead assertion. This matches the expression A only if it is followed by B.\n",
    "\n",
    "A(?!B) | Negative lookahead assertion. This matches the expression A only if it is not followed by B.\n",
    "\n",
    "(?<=B)A | Positive lookbehind assertion. This matches the expression A only if B is immediately to its left. This can only matched fixed length expressions.\n",
    "\n",
    "(?<!B)A | Negative lookbehind assertion. This matches the expression A only if B is not immediately to its left. This can only matched fixed length expressions.\n",
    "\n",
    "(?P=name) | Matches the expression matched by an earlier group named “name”.\n",
    "\n",
    "(...)\\1 | The number 1 corresponds to the first group to be matched. If we want to match more instances of the same expresion, simply use its number instead of writing out the whole expression again. We can use from 1 up to 99 such groups and their corresponding numbers.\n"
   ]
  },
  {
   "cell_type": "markdown",
   "id": "620d0b47",
   "metadata": {},
   "source": [
    "# Popular Python re Module Functions"
   ]
  },
  {
   "cell_type": "code",
   "execution_count": null,
   "id": "b60c6714",
   "metadata": {},
   "outputs": [],
   "source": [
    "re.findall(A, B) | Matches all instances of an expression A in a string B and returns them in a list.\n",
    "\n",
    "re.search(A, B) | Matches the first instance of an expression A in a string B, and returns it as a re match object.\n",
    "\n",
    "re.split(A, B) | Split a string B into a list using the delimiter A.\n",
    "\n",
    "re.sub(A, B, C) | Replace A with B in the string C."
   ]
  }
 ],
 "metadata": {
  "kernelspec": {
   "display_name": "Python 3",
   "language": "python",
   "name": "python3"
  },
  "language_info": {
   "codemirror_mode": {
    "name": "ipython",
    "version": 3
   },
   "file_extension": ".py",
   "mimetype": "text/x-python",
   "name": "python",
   "nbconvert_exporter": "python",
   "pygments_lexer": "ipython3",
   "version": "3.8.8"
  }
 },
 "nbformat": 4,
 "nbformat_minor": 5
}
