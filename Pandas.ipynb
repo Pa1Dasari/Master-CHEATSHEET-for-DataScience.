{
 "cells": [
  {
   "cell_type": "code",
   "execution_count": null,
   "id": "aad0524d",
   "metadata": {},
   "outputs": [],
   "source": [
    "import pandas as pd #installing pandas\n",
    "df=pd.read_csv('example_files/ex1.csv') #reads the file given as argument and saves in it variable s.\n",
    "df.head(n)#reads top n entries in the dataframe.\n",
    "df.tail(n)#reads bottom n entries in the dataframe.\n",
    "df.shape #tuple of # rows, #of columns in dataframe.\n",
    "# Changing column names by providing names parameter\n",
    "df =pd.read_csv('example_files/ex2.csv', names=['asdfdsfs','fsdf', 'b', 'c', 'sudh', 'message'])\n",
    "df #reading data frame\n",
    "# Use of index_col to use as the row labels/indexes of the DataFrame \n",
    "df = pd.read_csv('example_files/csv_mindex.csv',index_col=['key1', 'key2'])\n",
    "pd.isnull(result) # It will check for null values\n",
    "df = pd.read_excel('example_files/Store_Sales_Data.xlsx',sheet_name = 'Returns') # Name of sheet to read from for excel\n",
    "pd.options.display.max_rows = 10 # Setting max row as 10 to be display\n",
    "df.to_csv('example_files/out.csv') # Saving data to csv using to_csv\n",
    "df.dtypes # Printing data types of all columns of a dataset\n",
    "df.describe()#describes about the dataset.\n",
    "df.dtypes[df.dtypes == \"object\"].index # Index of those columns whose data tpe is object\n",
    "df[[\"column name\"]][4:9] # Rows from 4 to 8 both included\n",
    "df.columns # .columns will give the columns present in the dataset\n",
    "df[\"sudh\"]=\"sdffs\"# Adding new column in the dataset\n",
    "df[\"column name\"][0:15] #check first 15 entries in coulmn name\n",
    "pd.categorical(datasetname['column name']) # pd.categorical can make categories for given columns\n",
    "dataset['column name'].unique()#check unique entries in the given column name\n",
    "df.sample(n=10) #Randomly select n rows.\n",
    "df.nlargest(n, value’) #Select and order top n entries\n",
    "Use df.loc[] and df.iloc[] to select only rows, only columns or both.\n",
    "Use df.at[] and df.iat[] to access a single value by row and column.\n",
    "df.sort_values #sorts values of a column(low to high)\n",
    "df.groupby(by=\"col\") #Return a GroupBy object, grouped by values in column named \"col\"\n",
    "df.groupby(level=\"ind\") #Return a GroupBy object, grouped by values in index level named\"ind\"."
   ]
  }
 ],
 "metadata": {
  "kernelspec": {
   "display_name": "Python 3",
   "language": "python",
   "name": "python3"
  },
  "language_info": {
   "codemirror_mode": {
    "name": "ipython",
    "version": 3
   },
   "file_extension": ".py",
   "mimetype": "text/x-python",
   "name": "python",
   "nbconvert_exporter": "python",
   "pygments_lexer": "ipython3",
   "version": "3.8.8"
  }
 },
 "nbformat": 4,
 "nbformat_minor": 5
}
