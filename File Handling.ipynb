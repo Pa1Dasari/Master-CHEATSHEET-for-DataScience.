{
 "cells": [
  {
   "cell_type": "code",
   "execution_count": null,
   "id": "c373e4ec",
   "metadata": {},
   "outputs": [],
   "source": [
    "f= open(file_name, access_mode, buffering) #opening a file with open() built-in function.\n",
    "f.close() #closes the file\n",
    "f.write( )# writes text to the file\n",
    "f.read( ) #reads text from the file\n",
    "f.seek( ) #seek method id used to set pointer at given index.\n",
    "f.tell( ) # tells us the position of the pointer.\n",
    "f.flush( )# flushes the internal buffer.\n",
    "f.readline( )#reads a single line from the file.\n",
    "f.readlines( )#reads all lines from the file.\n",
    "f.writelines( )#writelines is used to write a string sequence to file.\n",
    "f.fileno( )#provide the integer file descriptor.\n",
    "file.closed #If the file is closed, return true otherwise false.\n",
    "file.name #Returns the file name.\n",
    "file.mode #It returns mode of access in which the file was opened."
   ]
  }
 ],
 "metadata": {
  "kernelspec": {
   "display_name": "Python 3",
   "language": "python",
   "name": "python3"
  },
  "language_info": {
   "codemirror_mode": {
    "name": "ipython",
    "version": 3
   },
   "file_extension": ".py",
   "mimetype": "text/x-python",
   "name": "python",
   "nbconvert_exporter": "python",
   "pygments_lexer": "ipython3",
   "version": "3.8.8"
  }
 },
 "nbformat": 4,
 "nbformat_minor": 5
}
