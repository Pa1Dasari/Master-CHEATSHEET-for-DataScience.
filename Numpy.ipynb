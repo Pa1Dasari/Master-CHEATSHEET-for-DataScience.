{
 "cells": [
  {
   "cell_type": "code",
   "execution_count": null,
   "id": "c73701f2",
   "metadata": {},
   "outputs": [],
   "source": [
    "import numpy as np #importing numpy\n",
    "np.zeros((3,4)) #Create an array of zeros\n",
    "np.ones((2,3,4),dtype=np.int16) #Create an array of ones\n",
    "d = np.arange(10,25,5) #Create an array of evenly spaced values (step value)\n",
    "np.linspace(0,2,9) #Create an array of evenly spaced values (number of samples)\n",
    "e = np.full((2,2),7) #Create a constant array\n",
    "f = np.eye(2) #Create a 2X2 identity matrix\n",
    "np.random.random((2,2)) #Create an array with random values\n",
    "np.empty((3,2)) #Create an empty array\n",
    "a.shape #Array dimensions\n",
    "len(a) #Length of array\n",
    "b.ndim #Number of array dimensions\n",
    "e.size #Number of array elements\n",
    "b.dtype #Data type of array elements\n",
    "b.dtype.name #Name of data type\n",
    "b.astype(int) #Convert an array to a different type\n",
    "a.sum() #Array-wise sum\n",
    "a.min() #Array-wise minimum value\n",
    "b.max(axis=0) #Maximum value of an array row\n",
    "b.cumsum(axis=1) #Cumulative sum of the elements\n",
    "a.mean() #Mean\n",
    "b.median() #Median\n",
    "a.corrcoef() #Correlation coefficient\n",
    "np.std(b) #Standard deviation\n",
    "h = a.view() #Create a view of the array with the same data\n",
    "np.copy(a) #Create a copy of the array\n",
    "h = a.copy() #Create a deep copy of the array\n",
    "a.sort() #Sort an array\n",
    "c.sort(axis=0) #Sort the elements of an array's axis\n",
    "i = np.transpose(b) #Permute array dimensions\n",
    "i.T #Permute array dimensions\n",
    "b.ravel() #Flatten the array\n",
    "g.reshape(3,-2) #Reshape, but don’t change data\n",
    "h.resize((2,6)) #Return a new array with shape (2,6)\n",
    "np.append(h,g) #Append items to an array\n",
    "np.insert(a, 1, 5) #Insert items in an array\n",
    "np.delete(a,[1]) #Delete items from an array\n",
    "np.concatenate((a,d),axis=0) #Concatenate arrays\n",
    "np.vstack((a,b)) #Stack arrays vertically (row-wise)\n",
    "np.r_[e,f] #Stack arrays vertically (row-wise)\n",
    "np.hstack((e,f)) #Stack arrays horizontally (column-wise)\n",
    "np.column_stack((a,d)) #Create stacked column-wise arrays\n",
    "np.c_[a,d] #Create stacked column-wise arrays\n",
    "np.hsplit(a,3) #Split the array horizontally at the 3rd index\n",
    "np.vsplit(c,2) #Split the array vertically at the 2nd index"
   ]
  }
 ],
 "metadata": {
  "kernelspec": {
   "display_name": "Python 3",
   "language": "python",
   "name": "python3"
  },
  "language_info": {
   "codemirror_mode": {
    "name": "ipython",
    "version": 3
   },
   "file_extension": ".py",
   "mimetype": "text/x-python",
   "name": "python",
   "nbconvert_exporter": "python",
   "pygments_lexer": "ipython3",
   "version": "3.8.8"
  }
 },
 "nbformat": 4,
 "nbformat_minor": 5
}
